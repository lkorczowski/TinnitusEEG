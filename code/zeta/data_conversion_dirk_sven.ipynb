{
 "cells": [
  {
   "cell_type": "code",
   "execution_count": 27,
   "metadata": {},
   "outputs": [
    {
     "name": "stdout",
     "output_type": "stream",
     "text": [
      "['17F 2 EC.txt', '18F 6 EC.txt', '1AUDENAERT_JEAN_PIERRE_PT_BIL_128_ICON.txt', '3chermin_rudolf_nbn_bil_128.txt', '66F (2).txt', '66F (3).txt', '66F.txt', '67F (2).txt', '67F.txt', 'H_3chermin_rudolf_nbn_bil_128_SF.txt', 'L_1AUDENAERT_JEAN_PIERRE_PT_BIL_128_ICON_SF.txt']\n",
      "11\n"
     ]
    }
   ],
   "source": [
    "import matplotlib.pyplot as plt\n",
    "%matplotlib qt\n",
    "import numpy as np\n",
    "import os\n",
    "import mne\n",
    "import scipy\n",
    "from scipy import stats\n",
    "from mne.preprocessing import ICA\n",
    "from mne.preprocessing.ica import corrmap\n",
    "from mne.time_frequency import psd_welch\n",
    "import sys\n",
    "import pickle\n",
    "\n",
    "#Create Raw file\n",
    "def CreateRaw_T(data):\n",
    "    ch_names = [\"Fp1\", \"Fp2\", \"F7\", \"F3\", \"Fz\", \"F4\", \"F8\", \"T7\", \"C3\", \"Cz\", \"C4\", \"T8\", \"P7\", \"P3\", \"Pz\", \"P4\", \"P8\", \"O1\", \"O2\"]\n",
    "    #ch_names=[\"FP1\", \"FP2\", \"F7\", \"F3\", \"FZ\", \"F4\", \"F8\", \"T3\", \"C3\", \"CZ\", \"C4\", \"T4\", \"T5\", \"P3\", \"PZ\", \"P4\", \"T6\", \"O1\", \"O2\"]\n",
    "    ch_types = ['eeg'] * len(ch_names)\n",
    "    sfreq=128\n",
    "    montage = 'standard_1020'\n",
    "    info = mne.create_info(ch_names=ch_names, sfreq=sfreq, ch_types=ch_types,montage=montage, verbose=False)\n",
    "    raw = mne.io.RawArray(data, info, verbose=False)\n",
    "    return(raw)\n",
    "\n",
    "def CreateRaw_H(data):\n",
    "    #ch_names = [\"Fp1\", \"Fp2\", \"F7\", \"F3\", \"Fz\", \"F4\", \"F8\", \"T7\", \"C3\", \"Cz\", \"C4\", \"T8\", \"P7\", \"P3\", \"Pz\", \"P4\", \"P8\", \"O1\", \"O2\"]\n",
    "    ch_names=[\"FP1\", \"FP2\", \"F7\", \"F3\", \"FZ\", \"F4\", \"F8\", \"T3\", \"C3\", \"CZ\", \"C4\", \"T4\", \"T5\", \"P3\", \"PZ\", \"P4\", \"T6\", \"O1\", \"O2\"]\n",
    "    ch_types = ['eeg'] * len(ch_names)\n",
    "    sfreq=128\n",
    "    montage = 'standard_1020'\n",
    "    info = mne.create_info(ch_names=ch_names, sfreq=sfreq, ch_types=ch_types,montage=montage, verbose=False)\n",
    "    raw = mne.io.RawArray(data, info, verbose=False)\n",
    "    return(raw)\n",
    "\n",
    "os.chdir(\"C:/Users/Zeta/data_dirk\")\n",
    "print (os.listdir(\"C:/Users/Zeta/data_dirk\"))\n",
    "subj= os.listdir(\"C:/Users/Zeta/data_dirk\")\n",
    "print (len(subj))"
   ]
  },
  {
   "cell_type": "code",
   "execution_count": 19,
   "metadata": {},
   "outputs": [
    {
     "name": "stdout",
     "output_type": "stream",
     "text": [
      "1AUDENAERT_JEAN_PIERRE_PT_BIL_128_ICON.txt\n",
      "      -3.509497       1.096696      -2.317461      -1.517706      -0.653069       0.078369       0.423483      -4.858788       0.515668       4.636388       4.721972       1.776055      -5.977906      -0.879730       2.989981       4.561184       5.807751      -4.900143      -1.993197\n",
      "\n",
      "16640\n"
     ]
    }
   ],
   "source": [
    "sub = 10\n",
    "print(subj[sub])\n",
    "filo  = open(subj[sub], \"r\") \n",
    "compt=0\n",
    "signal=[]\n",
    "for row in filo:\n",
    "    if compt==0:\n",
    "        print(row)\n",
    "    listy=[]\n",
    "    listy=row.split(\" \")\n",
    "    listy=listy[1:]\n",
    "    listy[-1]=listy[-1][:-2]\n",
    "    #print listy\n",
    "    loop=[]\n",
    "    for elm in listy:\n",
    "        if not elm==\"\":\n",
    "            loop.append(elm)\n",
    "    loop=[float(loop[i]) for i in range(len(loop))]\n",
    "    #print loop\n",
    "    #print len(loop)\n",
    "    signal.append(loop)\n",
    "    compt+=1\n",
    "    \n",
    "print (compt)"
   ]
  },
  {
   "cell_type": "code",
   "execution_count": 28,
   "metadata": {},
   "outputs": [
    {
     "name": "stdout",
     "output_type": "stream",
     "text": [
      "17F 2 EC.txt\n",
      "26112\n",
      "[0.790636, -0.684205, 1.495984, -2.011985, -6.074183, -6.338643, -2.649628, -1.116313, -0.085791, 1.920762, -0.982047, -4.095874, -2.612505, -1.076145, -4.078116, 0.286755, -1.231104, -4.559031, -0.97654]\n",
      "[-1.952314, -3.626727, -1.402997, -3.669402, -4.539892, -7.161302, -4.605164, -0.473599, -1.910756, -11.14941, -7.565391, -2.052466, -0.858293, -1.093914, -4.520457, -6.58224, -7.188322, -1.494697, -4.12702]\n",
      "19\n",
      "26112\n",
      "18F 6 EC.txt\n",
      "45568\n",
      "[2.600576, 4.925808, -8.989878, -0.046139, 5.533705, 3.056278, -0.985228, -9.395065, -1.471805, 0.551181, 2.067991, 0.360388, -6.81998, 2.833402, 1.671741, 0.792392, -0.518066, -1.783689, -0.517611]\n",
      "[4.195369, -4.20534, 1.476968, 1.293099, -3.606057, -11.88282, -12.577203, 11.849421, 3.881181, -5.874285, -13.032487, -16.189039, 18.104151, 7.835935, -5.459491, -10.255618, -10.670178, 12.352438, 7.545175]\n",
      "19\n",
      "45568\n",
      "1AUDENAERT_JEAN_PIERRE_PT_BIL_128_ICON.txt\n",
      "16640\n",
      "[-3.509497, 1.096696, -2.317461, -1.517706, -0.653069, 0.078369, 0.423483, -4.858788, 0.515668, 4.636388, 4.721972, 1.776055, -5.977906, -0.87973, 2.989981, 4.561184, 5.807751, -4.900143, -1.99319]\n",
      "[-3.786038, 1.993695, -3.968421, -0.322784, 2.480117, 3.504036, -1.527288, -5.365028, 1.628046, 4.505701, 3.743595, -0.719931, -2.732854, 2.246746, 4.067551, 1.603663, -3.372187, -1.655851, -2.32246]\n",
      "19\n",
      "16640\n",
      "3chermin_rudolf_nbn_bil_128.txt\n",
      "35840\n",
      "[-0.07461953, -1.73285933, -0.39090874, 5.37596123, 4.37680617, 3.91057958, -5.80025332, -0.34754225, 3.12362887, 3.75636902, -2.94933115, -5.16760703, 3.0394477, 5.04685769, 2.77564313, -6.17398839, -8.17049437, 4.96082887, -5.55911296]\n",
      "[-8.46784626, -6.56273744, -10.19200685, -7.20901536, -5.53815685, -2.93966569, -2.37818211, -5.52977749, -6.57419621, 0.02825967, 8.92785497, 1.87370119, -1.52989986, -1.9850813, 7.70799208, 11.25670289, 14.43912282, 3.30692735, 11.3646534]\n",
      "19\n",
      "35840\n",
      "66F (2).txt\n",
      "25856\n",
      "[0.148151, 2.349262, 0.210815, -1.51582, -2.448049, -1.327157, 3.167985, 0.241056, -3.099508, -3.653596, -7.688247, 1.207936, 0.048504, 0.352552, 4.126385, 2.893236, 2.592396, -0.082371, 2.4762]\n",
      "[-7.927042, -8.259523, -6.806421, -7.179799, -6.933389, -7.952932, -5.84634, -0.763571, -0.150424, -2.640139, -1.80774, 1.628644, 7.108229, 7.748652, 5.280067, 9.37764, 9.318476, 9.282802, 6.52281]\n",
      "19\n",
      "25856\n",
      "66F (3).txt\n",
      "24576\n",
      "[-3.004773, 0.046427, -5.459508, -1.030752, 1.625373, 3.653193, 2.770606, -3.592907, -1.402975, 2.835203, 6.637222, 2.157921, -1.482828, -2.144264, -1.38669, -2.109321, 1.774051, -0.669533, 0.78394]\n",
      "[3.523961, 1.8786, -3.902868, 5.319869, 7.038288, 2.316036, -2.744334, -8.211673, 0.554275, -0.140745, -3.758012, -7.092026, -4.018924, 1.860314, 3.350124, -0.441631, -4.297663, 3.798956, 4.96733]\n",
      "19\n",
      "24576\n",
      "66F.txt\n",
      "61696\n",
      "[-1.289549, -0.167316, -2.87905, -0.30241, 1.877906, 2.597548, -0.875418, -2.543489, 0.453913, 2.523066, 3.015464, -0.611088, 0.165359, 3.743281, 3.754745, 0.471149, -4.112163, -0.008405, -5.8135]\n",
      "[-0.52807, 0.198485, -0.160254, 0.543632, -0.436599, -1.1654, 4.442833, 0.401642, 1.692371, -0.875241, 0.670748, 3.537392, 0.724563, -1.798004, -0.991956, 0.137058, 1.730268, -5.591927, -2.5316]\n",
      "19\n",
      "61696\n",
      "67F (2).txt\n",
      "21504\n",
      "[-5.34663945, -1.12704581, -0.80798453, -3.9355812, -2.98505819, 5.7357281, 8.29991327, -3.414188, -5.93700795, -1.64990979, 6.17364112, 9.68465768, -1.54672604, -1.87956411, -9.97358368, -2.75762129, -0.27789475, 10.20128717, 1.54213575]\n",
      "[0.22167264, 3.2839928, -4.24779936, -2.094739, 1.88276105, 2.8444049, 12.40852153, -1.21030361, -0.93580785, -5.08586617, -0.13383851, 12.79365739, -0.77551861, -0.70820741, -0.67417744, -3.27147873, 0.17808628, -6.24725649, -8.22824505]\n",
      "19\n",
      "21504\n",
      "67F.txt\n",
      "22528\n",
      "[0.517362, 1.659398, 5.791441, 3.293814, 0.299774, -1.3064, -2.778945, 9.499952, 8.407764, -0.277719, -3.13302, -8.382742, 3.770248, 4.420251, -1.167046, -4.309365, -11.172116, -1.007591, -4.12521]\n",
      "[10.637117, 11.438196, 10.032537, 12.801842, 12.518465, 8.118627, 1.862723, -0.953436, 5.340192, 11.14018, 3.429166, -4.685375, -13.839836, -13.781653, -2.818086, -9.42849, -10.515307, -16.099878, -15.19697]\n",
      "19\n",
      "22528\n"
     ]
    }
   ],
   "source": [
    "sub=0\n",
    "subj=subj[:9]\n",
    "for sub in range(len(subj)):\n",
    "    print (subj[sub])\n",
    "    filo  = open(subj[sub], \"r\") \n",
    "\n",
    "    compt=0\n",
    "    signal=[]\n",
    "    for row in filo:\n",
    "        listy=[]\n",
    "        listy=row.split(\" \")\n",
    "        \n",
    "        listy[-1]=listy[-1][:-2]\n",
    "        #print listy\n",
    "        loop=[]\n",
    "        for elm in listy:\n",
    "            if not elm==\"\":\n",
    "                loop.append(elm)\n",
    "        loop=[float(loop[i]) for i in range(len(loop))]\n",
    "        #print loop\n",
    "        #print len(loop)\n",
    "        if not len(loop)==19:\n",
    "            print (loop)\n",
    "            print (len(loop))\n",
    "        signal.append(loop)\n",
    "        compt+=1\n",
    "    print (compt)\n",
    "    print (signal[0])\n",
    "    print (signal[-1])\n",
    "    signal = np.asanyarray(signal)\n",
    "    print (len(signal[0]))\n",
    "    signal=np.transpose(signal)\n",
    "    print (len(signal[-1]))\n",
    "    RAW = CreateRaw_T(signal)\n",
    "    RAW.plot(scalings=\"auto\")"
   ]
  },
  {
   "cell_type": "code",
   "execution_count": null,
   "metadata": {},
   "outputs": [],
   "source": []
  },
  {
   "cell_type": "code",
   "execution_count": 39,
   "metadata": {},
   "outputs": [],
   "source": []
  },
  {
   "cell_type": "code",
   "execution_count": null,
   "metadata": {},
   "outputs": [],
   "source": []
  },
  {
   "cell_type": "code",
   "execution_count": null,
   "metadata": {},
   "outputs": [],
   "source": []
  },
  {
   "cell_type": "code",
   "execution_count": 49,
   "metadata": {},
   "outputs": [],
   "source": []
  },
  {
   "cell_type": "code",
   "execution_count": 50,
   "metadata": {},
   "outputs": [],
   "source": []
  },
  {
   "cell_type": "code",
   "execution_count": null,
   "metadata": {},
   "outputs": [],
   "source": []
  },
  {
   "cell_type": "code",
   "execution_count": null,
   "metadata": {},
   "outputs": [],
   "source": []
  }
 ],
 "metadata": {
  "kernelspec": {
   "display_name": "Python 3",
   "language": "python",
   "name": "python3"
  },
  "language_info": {
   "codemirror_mode": {
    "name": "ipython",
    "version": 3
   },
   "file_extension": ".py",
   "mimetype": "text/x-python",
   "name": "python",
   "nbconvert_exporter": "python",
   "pygments_lexer": "ipython3",
   "version": "3.7.3"
  }
 },
 "nbformat": 4,
 "nbformat_minor": 2
}
